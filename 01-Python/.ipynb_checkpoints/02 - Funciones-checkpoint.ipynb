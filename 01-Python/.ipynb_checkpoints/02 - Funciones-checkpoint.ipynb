{
 "cells": [
  {
   "cell_type": "code",
   "execution_count": 2,
   "metadata": {},
   "outputs": [
    {
     "name": "stdout",
     "output_type": "stream",
     "text": [
      "Hola mundo\n"
     ]
    },
    {
     "data": {
      "text/plain": [
       "NoneType"
      ]
     },
     "execution_count": 2,
     "metadata": {},
     "output_type": "execute_result"
    }
   ],
   "source": [
    "# Funciones\n",
    "def hola_mundo():         # None\n",
    "    print(\"Hola mundo\")\n",
    "type(hola_mundo())"
   ]
  },
  {
   "cell_type": "code",
   "execution_count": 8,
   "metadata": {},
   "outputs": [
    {
     "name": "stdout",
     "output_type": "stream",
     "text": [
      "La suma de 6 y 9 es igual a 15\n"
     ]
    }
   ],
   "source": [
    "def sumar_dos_numeros(num_uno, num_dos):\n",
    "    return num_uno + num_dos\n",
    "#print(sumar_dos_numeros(6,9))\n",
    "total_suma = sumar_dos_numeros(6,9)\n",
    "print(f\"La suma de 6 y 9 es igual a {total_suma}\")"
   ]
  },
  {
   "cell_type": "code",
   "execution_count": 12,
   "metadata": {},
   "outputs": [
    {
     "name": "stdout",
     "output_type": "stream",
     "text": [
      "Universidad: EPN\n",
      "Universidad: ESPE\n"
     ]
    }
   ],
   "source": [
    "def imprimir_universidad(nombre = \"EPN\"):   # Parametros Opcionales\n",
    "    print(f\"Universidad: {nombre}\")         # Parametros por defecto\n",
    "imprimir_universidad()\n",
    "imprimir_universidad(\"ESPE\")"
   ]
  },
  {
   "cell_type": "code",
   "execution_count": 16,
   "metadata": {},
   "outputs": [
    {
     "name": "stdout",
     "output_type": "stream",
     "text": [
      "color: Blanco\n",
      "placa: ABC-1234\n",
      "horse power: 3000\n",
      "anio: 1989\n"
     ]
    }
   ],
   "source": [
    "# Regla -> primero parametros requeridos, segundo parametros opcionales\n",
    "\n",
    "def imprimir_carro(color, placa, hp, anio = 1989):\n",
    "    print(f\"color: {color}\")\n",
    "    print(f\"placa: {placa}\")\n",
    "    print(f\"horse power: {hp}\")\n",
    "    print(f\"anio: {anio}\")\n",
    "imprimir_carro(\"Blanco\", \"ABC-1234\", 3000)"
   ]
  },
  {
   "cell_type": "code",
   "execution_count": 19,
   "metadata": {},
   "outputs": [
    {
     "name": "stdout",
     "output_type": "stream",
     "text": [
      "color: Blaco\n",
      "placa: DEF-456\n",
      "horse power: 2500\n",
      "anio: 1998\n"
     ]
    }
   ],
   "source": [
    "# Named Parameters \n",
    "\n",
    "imprimir_carro(anio = 1998, placa = \"DEF-456\", hp = 2500, color = \"Blaco\")"
   ]
  },
  {
   "cell_type": "code",
   "execution_count": 20,
   "metadata": {},
   "outputs": [
    {
     "name": "stdout",
     "output_type": "stream",
     "text": [
      "color: Negro\n",
      "placa: ABC-123\n",
      "horse power: 2765\n",
      "anio: 1995\n"
     ]
    }
   ],
   "source": [
    "# Regla -> Podemos usar parametros por posicion y Luego todos en parametros nombrados\n",
    "\n",
    "imprimir_carro(\"Negro\", \"ABC-123\", anio = 1995, hp = 2765)"
   ]
  },
  {
   "cell_type": "code",
   "execution_count": 25,
   "metadata": {},
   "outputs": [
    {
     "data": {
      "text/plain": [
       "45"
      ]
     },
     "execution_count": 25,
     "metadata": {},
     "output_type": "execute_result"
    }
   ],
   "source": [
    "def sumar_numeros(primer_numero, *numeros):    # *numeros -> numeros infitos\n",
    "    suma = primer_numero\n",
    "    for numero in numeros:\n",
    "        suma = suma + numero\n",
    "    return suma\n",
    "sumar_numeros(1,2,3,4,5,6,7,8,9)"
   ]
  },
  {
   "cell_type": "code",
   "execution_count": 28,
   "metadata": {},
   "outputs": [
    {
     "name": "stdout",
     "output_type": "stream",
     "text": [
      "{'sadulo': 'Hola', 'mensaje': 'mundo'}\n",
      "<class 'dict'>\n"
     ]
    }
   ],
   "source": [
    "def establecer_configuracion(**kwargs): # Key Word Arguments\n",
    "    print(kwargs)                       # Parametros nombrados\n",
    "    print(type(kwargs))\n",
    "establecer_configuracion(sadulo = \"Hola\", mensaje =\"mundo\")"
   ]
  },
  {
   "cell_type": "code",
   "execution_count": 31,
   "metadata": {},
   "outputs": [],
   "source": [
    "# REGALAS \n",
    "def ejemplo(reqerido uno,\n",
    "           requerido_dos,\n",
    "           opcional_uno = 1,\n",
    "           opcional_dos = 2,\n",
    "           *infinitos,\n",
    "           **kwargs)\n",
    "    print(\":)\")"
   ]
  },
  {
   "cell_type": "code",
   "execution_count": null,
   "metadata": {},
   "outputs": [],
   "source": []
  }
 ],
 "metadata": {
  "kernelspec": {
   "display_name": "Python 3",
   "language": "python",
   "name": "python3"
  },
  "language_info": {
   "codemirror_mode": {
    "name": "ipython",
    "version": 3
   },
   "file_extension": ".py",
   "mimetype": "text/x-python",
   "name": "python",
   "nbconvert_exporter": "python",
   "pygments_lexer": "ipython3",
   "version": "3.7.6"
  }
 },
 "nbformat": 4,
 "nbformat_minor": 4
}
