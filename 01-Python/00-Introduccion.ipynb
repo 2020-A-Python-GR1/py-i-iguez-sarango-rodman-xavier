{
 "cells": [
  {
   "cell_type": "markdown",
   "metadata": {},
   "source": [
    "# Titulo1\n",
    "###### Titulo6\n",
    "\n",
    "![alt text](https://github.com/adam-p/markdown-here/raw/master/src/common/images/icon48.png \"Logo Title Text 1\")"
   ]
  },
  {
   "cell_type": "code",
   "execution_count": 3,
   "metadata": {},
   "outputs": [
    {
     "name": "stdout",
     "output_type": "stream",
     "text": [
      "Hola Mundo\n"
     ]
    }
   ],
   "source": [
    "print(\"Hola Mundo\")"
   ]
  },
  {
   "cell_type": "code",
   "execution_count": 12,
   "metadata": {},
   "outputs": [
    {
     "name": "stdout",
     "output_type": "stream",
     "text": [
      "<class 'int'>\n",
      "<class 'float'>\n",
      "<class 'str'>\n",
      "<class 'str'>\n",
      "<class 'str'>\n",
      "<class 'bool'>\n",
      "<class 'bool'>\n",
      "<class 'NoneType'>\n"
     ]
    }
   ],
   "source": [
    "# No tipado\n",
    "#Variables Primitivas\n",
    "entero = 4\n",
    "decimales = 1.1\n",
    "nombre = \"Rodman\"\n",
    "segundo_nombre = \"Xavier\" #segundoNombre X -> Mal\n",
    "apellido = 'Iñiguez'\n",
    "casado = False \n",
    "estudiante = True\n",
    "hijos = None\n",
    "print(type(entero)) # int\n",
    "print(type(decimales)) # flot\n",
    "print(type(nombre)) # str\n",
    "print(type(segundo_nombre)) # str\n",
    "print(type(apellido)) # str\n",
    "print(type(casado)) # bool\n",
    "print(type(estudiante)) # bool\n",
    "print(type(hijos)) # NoneType\n"
   ]
  },
  {
   "cell_type": "code",
   "execution_count": 7,
   "metadata": {},
   "outputs": [
    {
     "name": "stdout",
     "output_type": "stream",
     "text": [
      "\n",
      "Jupyter (formerly IPython Notebook) is an open-source project that lets you easily combine Markdown\n",
      "text and executable Python source code on one canvas called a notebook. Visual Studio Code supports \n",
      "working with Jupyter Notebooks natively, as well as through Python code files. This topic covers the\n",
      "native support available for Jupyter Notebooks and demonstrates how to:\n",
      "\n",
      "Create, open, and save Jupyter Notebooks\n",
      "Work with Jupyter code cells\n",
      "View, inspect, and filter variables using the Variable explorer and Data viewer\n",
      "Connect to a remote Jupyter server\n",
      "Debug a Jupyter notebook\n",
      "\n",
      "\n"
     ]
    }
   ],
   "source": [
    "cadena_de_texto = \"\"\"\n",
    "Jupyter (formerly IPython Notebook) is an open-source project that lets you easily combine Markdown\n",
    "text and executable Python source code on one canvas called a notebook. Visual Studio Code supports \n",
    "working with Jupyter Notebooks natively, as well as through Python code files. This topic covers the\n",
    "native support available for Jupyter Notebooks and demonstrates how to:\n",
    "\n",
    "Create, open, and save Jupyter Notebooks\n",
    "Work with Jupyter code cells\n",
    "View, inspect, and filter variables using the Variable explorer and Data viewer\n",
    "Connect to a remote Jupyter server\n",
    "Debug a Jupyter notebook\n",
    "\n",
    "\"\"\"\n",
    "print(cadena_de_texto)"
   ]
  },
  {
   "cell_type": "code",
   "execution_count": 13,
   "metadata": {},
   "outputs": [
    {
     "name": "stdout",
     "output_type": "stream",
     "text": [
      "4\n",
      "Rodman\n"
     ]
    }
   ],
   "source": [
    "print(entero)\n",
    "entero = decimales\n",
    "entero = hijos\n",
    "entero = casado \n",
    "entero = nombre\n",
    "print(entero)"
   ]
  },
  {
   "cell_type": "code",
   "execution_count": 11,
   "metadata": {},
   "outputs": [
    {
     "name": "stdout",
     "output_type": "stream",
     "text": [
      "Truty\n",
      "Falsy\n"
     ]
    }
   ],
   "source": [
    "# Condiciones\n",
    "# Truty - Falsy\n",
    "tuplas = (1,2,3)\n",
    "listas = [4,5,6]\n",
    "diccionario = {\"nombre\":\"Rodman\"}\n",
    "\n",
    "if('Rodman'):\n",
    "    #...\n",
    "    #...\n",
    "    print('Truty')\n",
    "else:\n",
    "    #...\n",
    "    #...\n",
    "    printnt('Falsy')\n",
    "\n",
    "if(''):#\n",
    "    print('Truty')\n",
    "else:\n",
    "    print('Falsy')"
   ]
  },
  {
   "cell_type": "code",
   "execution_count": null,
   "metadata": {},
   "outputs": [],
   "source": []
  }
 ],
 "metadata": {
  "kernelspec": {
   "display_name": "Python 3",
   "language": "python",
   "name": "python3"
  },
  "language_info": {
   "codemirror_mode": {
    "name": "ipython",
    "version": 3
   },
   "file_extension": ".py",
   "mimetype": "text/x-python",
   "name": "python",
   "nbconvert_exporter": "python",
   "pygments_lexer": "ipython3",
   "version": "3.7.6"
  }
 },
 "nbformat": 4,
 "nbformat_minor": 4
}
