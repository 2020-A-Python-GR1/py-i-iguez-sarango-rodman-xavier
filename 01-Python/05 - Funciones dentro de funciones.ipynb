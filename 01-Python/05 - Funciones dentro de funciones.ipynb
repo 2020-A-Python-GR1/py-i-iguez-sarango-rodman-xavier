{
 "cells": [
  {
   "cell_type": "code",
   "execution_count": 17,
   "metadata": {},
   "outputs": [
    {
     "data": {
      "text/plain": [
       "7"
      ]
     },
     "execution_count": 17,
     "metadata": {},
     "output_type": "execute_result"
    }
   ],
   "source": [
    "def calculadora(num_uno, num_dos, operacion = \"division\"):\n",
    "    \n",
    "    def suma():\n",
    "        return num_uno + num_dos\n",
    "    \n",
    "    def resta():\n",
    "        return num_uno - num_dos\n",
    "    \n",
    "    def multiplicacion():\n",
    "        return num_uno * num_dos\n",
    "    \n",
    "    def division():\n",
    "        return num_uno + num_dos\n",
    "    \n",
    "    def devolver_respuesta():\n",
    "        opciones = {\n",
    "            \"suma\" : suma,\n",
    "            \"resta\" : resta,\n",
    "            \"multiplicacion\" : multiplicacion,\n",
    "            \"division\" : division\n",
    "        }\n",
    "        return opciones[operacion]()\n",
    "        \n",
    "    return devolver_respuesta()\n",
    "\n",
    "calculadora(3, 4) "
   ]
  },
  {
   "cell_type": "code",
   "execution_count": 19,
   "metadata": {},
   "outputs": [
    {
     "name": "stdout",
     "output_type": "stream",
     "text": [
      "dime tu edad: 20\n",
      "20\n",
      "<class 'str'>\n"
     ]
    }
   ],
   "source": [
    "edad = input(\"dime tu edad: \")\n",
    "print(edad)\n",
    "print(type(edad))"
   ]
  },
  {
   "cell_type": "code",
   "execution_count": null,
   "metadata": {},
   "outputs": [],
   "source": []
  }
 ],
 "metadata": {
  "kernelspec": {
   "display_name": "Python 3",
   "language": "python",
   "name": "python3"
  },
  "language_info": {
   "codemirror_mode": {
    "name": "ipython",
    "version": 3
   },
   "file_extension": ".py",
   "mimetype": "text/x-python",
   "name": "python",
   "nbconvert_exporter": "python",
   "pygments_lexer": "ipython3",
   "version": "3.7.6"
  }
 },
 "nbformat": 4,
 "nbformat_minor": 4
}
